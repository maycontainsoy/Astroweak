{
 "cells": [
  {
   "cell_type": "markdown",
   "metadata": {},
   "source": [
    "#### Dictionary of Atomic Masses"
   ]
  },
  {
   "cell_type": "code",
   "execution_count": 3,
   "metadata": {
    "collapsed": true
   },
   "outputs": [],
   "source": [
    "atomicMasses = {\n",
    "    (21,7): 25.230,     (21,8): 8.062,      (21,9): -0.0476,    (21,10): -5.73172,  (21,11): -2.1843,   (21,12): 10.912,\n",
    "    (22,6): 52.600,     (22,7): 32.080,     (22,8): 9.280,      (22,9): 2.794,      (22,10): -8.02435,  (22,11): -5.1822, \n",
    "    (22,12): -0.3968,   (22,13): 18.180,    (22,14): 32.160,    (23,7): 37.700,     (23,8): 14.620,     (23,9): 3.330, \n",
    "    (23,10): -5.1537,   (23,11): -9.52950,  (23,12): -5.4727,   (23,13): 6.767,     (23,14): 23.770,    (24,8): 19.000, \n",
    "    (24,9): 7.540,      (24,10): -5.948,    (24,11): -8.41762,  (24,12): -13.93340, (24,13): -0.055,    (24,14): 10.755,\n",
    "    (25,9): 11.270,     (25,10): -2.060,    (25,11): -9.3575,   (25,12): -13.19275, (25,13): -8.9158,   (25,14): 3.825,\n",
    "    (26,9): 18.290,     (26,10): 0.430,     (26,11): -6.902,    (26,12): -16.21451, (26,13): -12.21032, (26,14): -7.145, \n",
    "    (26,15): 10.970,    (27,9): 25.100,     (27,10): 7.090,     (27,11): -5.580,    (27,12): -14.58654, (27,13): -17.19686, \n",
    "    (27,14): -12.38503, (27,15): -0.750,    (27,16): 17.510,    (28,10): 11.280,    (28,11): -1.030,    (28,12): -15.0188, \n",
    "    (28,13): -16.85058, (28,14): -21.49283, (28,15): -7.161,    (28,16): 4.070,     (29,10): 18.000,    (29,11): 2.620, \n",
    "    (29,12): -10.660,   (29,13): -18.2155,  (29,14): -21.89506, (29,15): -16.9519,  (29,16): -3.160,    (30,10): 22.200, \n",
    "    (30,11): 8.590,     (30,12): -8.880,    (30,13): -15.872,   (30,14): -24.43292, (30,15): -20.2006,  (30,16): -14.063,\n",
    "    (31,11): 12.660,    (31,12): -3.220,    (31,13): -14.954,   (31,14): -22.94899, (31,15): -24.4410,  (31,16): -19.0449, \n",
    "    (31,17): -7.060,    (31,18): 11.300,    (32,11): 18.300,    (32,12): -0.800,    (32,13): -11.060,   (32,14): -24.0809, \n",
    "    (32,15): -24.3053,  (32,16): -26.01594, (32,17): -13.331,   (32,18): -2.180,    (33,11): 25.500,    (33,12): 5.200, \n",
    "    (33,13): -8.500,    (33,14): -20.492,   (33,15): -26.3377,  (33,16): -26.58620, (33,17): -21.0035,  (33,18): -9.380,\n",
    "    (34,11): 32.500,    (34,12): 8.500,     (34,13): -2.860,    (34,14): -19.957,   (34,15): -24.558,   (34,16): -29.93181, \n",
    "    (34,17): -24.43961, (34,18): -18.378,   (35,11): 41.200,    (35,12): 16.300,    (35,13): -0.060,    (35,14): -14.360, \n",
    "    (35,15): -24.8576,  (35,16): -28.84633, (35,17): -29.01351, (35,18): -23.0482,  (35,19): -11.167,   (35,20): 4.440\n",
    "    }"
   ]
  },
  {
   "cell_type": "code",
   "execution_count": null,
   "metadata": {
    "collapsed": true
   },
   "outputs": [],
   "source": []
  },
  {
   "cell_type": "markdown",
   "metadata": {},
   "source": [
    "#### Function: atomicMass"
   ]
  },
  {
   "cell_type": "code",
   "execution_count": 4,
   "metadata": {
    "collapsed": true
   },
   "outputs": [],
   "source": [
    "# Begin atomicMass\n",
    "# Returns atomic mass excess in MeV.\n",
    "#  A   is nuclear mass number. Can be any data type that will cast to int.\n",
    "#  Z   is proton number. Can be any data type that will cast to int. \n",
    "def atomicMass(A,Z):\n",
    "    try:\n",
    "        A = int(A)\n",
    "    except:\n",
    "        print ('\\\"{}\\\" is invalid input for A in mass lookup.'.format(A))\n",
    "        return None\n",
    "    try:\n",
    "        Z = int(Z)\n",
    "    except:\n",
    "        print ('\\\"{}\\\" is invalid input for Z in mass lookup.'.format(Z))\n",
    "        return None\n",
    "    \n",
    "    M = atomicMasses.get((A,Z))\n",
    "    if M == None:\n",
    "        print ('No mass found for A,Z={},{}.'.format(A,Z))\n",
    "    \n",
    "    return M \n",
    "# End atomicMasses"
   ]
  },
  {
   "cell_type": "markdown",
   "metadata": {},
   "source": [
    "#### Function: avgWeight"
   ]
  },
  {
   "cell_type": "code",
   "execution_count": 5,
   "metadata": {
    "collapsed": true
   },
   "outputs": [],
   "source": [
    "# Begin avgWeight\n",
    "# Computes the average statistical weight for a range of states.\n",
    "# First finds partial prtition function for a given range then sums spin degeneracies of computed states in that\n",
    "# range and divides by that sum. Computed states should then be multiplied by their degeneracy and the results from\n",
    "# avgWeight(). \n",
    "#  T         float  temperature (MeV). May be scalar or array.\n",
    "#  lptName   str    file name for lpt.\n",
    "#  AZ        str    atomic mass, atomic number\n",
    "#  channel   str    reaction channel\n",
    "#  nucDir    str    directory containing the 'overlaps' directory\n",
    "#  Emin      float  energy minimum of accepted states\n",
    "#  Emax      float  energy maximum of accepted states\n",
    "#  Tz        float  z-projection of isospin. May be neglected if lpt file contains no states with bad isospin. \n",
    "def avgWeight(T,lptName,AZ,channel,Emin=0,Emax=float('inf'),nucDir='./',Tz=None):\n",
    "    if not lptName.starswith(nucDir):\n",
    "        lptName = nucDir + lptName\n",
    "    \n",
    "    Z = int(AZ.split(',')[1])\n",
    "    \n",
    "    Gp = partfcnPartial(T,lptName,Emin=Emin,Emax=Emax,Tz=Tz)\n",
    "    \n",
    "    spinsum = 0\n",
    "    for dao in os.listdir(nucDir + 'overlaps/A,Z={}'.format(AZ)):\n",
    "        if os.path.splitext(dao)[1] == '.dao':\n",
    "            if dao.split()[0] == channel and dao.split()[1].endswith(str(Z)):\n",
    "                J = float(dao.split()[3].split('=')[1])\n",
    "                T = float(dao.split()[4].split('=')[1])\n",
    "                n = dao.split()[5].split('=')[1].split('.')[0]\n",
    "                E = getEnergy(Tz,J,T,n,lptName=lptName)\n",
    "                \n",
    "                if Emin <= E < Emax:\n",
    "                    spinsum = spinsum + (2*J) + 1\n",
    "\n",
    "    weight = Gp/spinsum\n",
    "    return weight \n",
    "# End avgWeight"
   ]
  },
  {
   "cell_type": "markdown",
   "metadata": {},
   "source": [
    "#### Function: BGT"
   ]
  },
  {
   "cell_type": "code",
   "execution_count": 6,
   "metadata": {
    "collapsed": true
   },
   "outputs": [],
   "source": [
    "# Begin BGT\n",
    "# Takes log(ft) value and BF, returns BGT. If Ji and Jf are specified, alos returns reverse reaction BGT.\n",
    "#  logft  float  measured log(ft) value \n",
    "#  Ji     float  initial state spin\n",
    "#  Jf     float  final state spin \n",
    "#  BF     float  Fermi transition strength\n",
    "def BGT(logft,Ji=None,Jf=None,BF=0.):\n",
    "    ft = 10**(logft)\n",
    "    \n",
    "    # BGT for forward reaction\n",
    "    BGTf = (BtoFT / ft - BF) / aVectoVec\n",
    "    \n",
    "    # FFN values of BtoFT and aVectoVec in following line.\n",
    "    #BGTf = 10**(3.596)*(100**(-logft)-BF*10**(-3.791))\n",
    "    \n",
    "    # BGT for reverse reaction\n",
    "    if Ji != None and Jf != None:\n",
    "        BGTr = BGTf * (2.*Ji+1) / (2.*Jf+1)\n",
    "    else:\n",
    "        BGTr = None\n",
    "    \n",
    "    #print '\\nft: {}\\nJi: {}\\nJf: {}\\nBF: {}'.format(logft,Ji,Jf,BF)\n",
    "    \n",
    "    return (BGTf,BGTr)\n",
    "# End BGT"
   ]
  },
  {
   "cell_type": "markdown",
   "metadata": {},
   "source": [
    "#### Function BGTFFN"
   ]
  },
  {
   "cell_type": "code",
   "execution_count": null,
   "metadata": {
    "collapsed": true
   },
   "outputs": [],
   "source": [
    "# Begin BGTFFN\n",
    "# Takes log(ft) value and BF, returns BGT using FFN values of weak constants. If Ji and Jf are specified,\n",
    "# also returns reverse reaction BGT. \n",
    "#  logft  float  measured log(ft) value\n",
    "#  Ji     float  initial state spin\n",
    "#  Jf     float  final state spin \n",
    "#  BF     float  Fermi transition strength \n",
    "def BGTFFN(logft,Ji=None,Jf=None,BF=0.):\n",
    "    ft = 10**(logft)\n",
    "    \n",
    "    # BGT for forward reaction\n",
    "    BGTf = 10**(3.596)*(10**(-logft)-BF*10**(-3.791))\n",
    "    \n",
    "    # BGT for reverse reaction\n",
    "    if Ji != None and Jf != None:\n",
    "        BGTr = BGTf * (2.*Ji+1) / (2.*Jf+1)\n",
    "    else:\n",
    "        BGTr = None \n",
    "        "
   ]
  },
  {
   "cell_type": "markdown",
   "metadata": {},
   "source": [
    "#### Function: userFloat"
   ]
  },
  {
   "cell_type": "code",
   "execution_count": 2,
   "metadata": {},
   "outputs": [],
   "source": [
    "# Begin userFloat\n",
    "# Gets input from the user and converts to appropriate format.\n",
    "#   prompt    is the prompt given to the user\n",
    "#   notes     is the parenthetical, e.g., units\n",
    "#   default   is an optinoal default value \n",
    "def userFloat(prompt,notes=None,default=None):\n",
    "    prompt = '\\n' + prompt\n",
    "    if notes:\n",
    "        if default:\n",
    "            other = ' ({}, default {}): '.format(notes,default)\n",
    "        else:\n",
    "            other = ' ({}): '.format(notes) \n",
    "    else:\n",
    "        if default:\n",
    "            other = ' (default {}): '.format(default)\n",
    "        else:\n",
    "            other = ': '\n",
    "    \n",
    "    if default:\n",
    "        tempInput = input(prompt+other)\n",
    "        try:\n",
    "            tempInput = float(tempInput)\n",
    "        except:\n",
    "            print ('Using default.')\n",
    "            tempInput = float(default)\n",
    "    else:\n",
    "        while TRue:\n",
    "            tempInput = input(prompt+tempInput)\n",
    "            try:\n",
    "                tempInput = float(tempInput)\n",
    "                break\n",
    "            except:\n",
    "                print ('Invalid input,')\n",
    "                \n",
    "    return tempInput\n",
    "# End userFloat "
   ]
  },
  {
   "cell_type": "code",
   "execution_count": null,
   "metadata": {
    "collapsed": true
   },
   "outputs": [],
   "source": []
  }
 ],
 "metadata": {
  "kernelspec": {
   "display_name": "Python 3",
   "language": "python",
   "name": "python3"
  },
  "language_info": {
   "codemirror_mode": {
    "name": "ipython",
    "version": 3
   },
   "file_extension": ".py",
   "mimetype": "text/x-python",
   "name": "python",
   "nbconvert_exporter": "python",
   "pygments_lexer": "ipython3",
   "version": "3.6.3"
  }
 },
 "nbformat": 4,
 "nbformat_minor": 2
}
