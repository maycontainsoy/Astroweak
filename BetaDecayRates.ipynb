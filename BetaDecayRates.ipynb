{
 "cells": [
  {
   "cell_type": "code",
   "execution_count": 1,
   "metadata": {
    "collapsed": true
   },
   "outputs": [],
   "source": [
    "# Environmental Variables\n",
    "%matplotlib inline\n",
    "import matplotlib.pyplot as plt\n",
    "import numpy as np\n",
    "import os"
   ]
  },
  {
   "cell_type": "code",
   "execution_count": 2,
   "metadata": {
    "collapsed": true
   },
   "outputs": [],
   "source": [
    "# Plot parameters\n",
    "plt.rcParams['figure.figsize']=[15,10]\n",
    "plt.rcParams['font.size']=18"
   ]
  },
  {
   "cell_type": "code",
   "execution_count": 3,
   "metadata": {
    "collapsed": true
   },
   "outputs": [],
   "source": [
    "A = [19,20,21,22,24,18,21,23,26,18,19,23,24,25,26,28,20,21,22,24,25,26,27,20,21,22,23,27,28,29,23,24,25,26,28,29,30,32,24,25,26,27,31,32,33,27,28,30,32,33,34,29,30,31,35,31,32,33,32,34,35,37,36,37,36,37,38]\n",
    "Z = [ 8, 8, 8, 8, 8, 9, 9, 9, 9,10,10,10,10,10,10,10,11,11,11,11,11,11,11,12,12,12,12,12,12,12,13,13,13,13,13,13,13,13,14,14,14,14,14,14,14,15,15,15,15,15,15,16,16,16,16,17,17,17,18,18,18,18,19,19,20,20,20]"
   ]
  },
  {
   "cell_type": "code",
   "execution_count": 4,
   "metadata": {},
   "outputs": [
    {
     "name": "stdout",
     "output_type": "stream",
     "text": [
      "Running for A=19 and Z=8\n",
      "Running for A=20 and Z=8\n",
      "Running for A=21 and Z=8\n",
      "Running for A=22 and Z=8\n",
      "Running for A=24 and Z=8\n",
      "Running for A=18 and Z=9\n",
      "Running for A=21 and Z=9\n",
      "Running for A=23 and Z=9\n",
      "Running for A=26 and Z=9\n",
      "Running for A=18 and Z=10\n",
      "Running for A=19 and Z=10\n",
      "Running for A=23 and Z=10\n",
      "Running for A=24 and Z=10\n",
      "Running for A=25 and Z=10\n",
      "Running for A=26 and Z=10\n",
      "Running for A=28 and Z=10\n",
      "Running for A=20 and Z=11\n",
      "Running for A=21 and Z=11\n",
      "Running for A=22 and Z=11\n",
      "Running for A=24 and Z=11\n",
      "Running for A=25 and Z=11\n",
      "Running for A=26 and Z=11\n",
      "Running for A=27 and Z=11\n",
      "Running for A=20 and Z=12\n",
      "Running for A=21 and Z=12\n",
      "Running for A=22 and Z=12\n",
      "Running for A=23 and Z=12\n",
      "Running for A=27 and Z=12\n",
      "Running for A=28 and Z=12\n",
      "Running for A=29 and Z=12\n",
      "Running for A=23 and Z=13\n",
      "Running for A=24 and Z=13\n",
      "Running for A=25 and Z=13\n",
      "Running for A=26 and Z=13\n",
      "Running for A=28 and Z=13\n",
      "Running for A=29 and Z=13\n",
      "Running for A=30 and Z=13\n",
      "Running for A=32 and Z=13\n",
      "Running for A=24 and Z=14\n",
      "Running for A=25 and Z=14\n",
      "Running for A=26 and Z=14\n",
      "Running for A=27 and Z=14\n",
      "Running for A=31 and Z=14\n",
      "Running for A=32 and Z=14\n",
      "Running for A=33 and Z=14\n",
      "Running for A=27 and Z=15\n",
      "Running for A=28 and Z=15\n",
      "Running for A=30 and Z=15\n",
      "Running for A=32 and Z=15\n",
      "Running for A=33 and Z=15\n",
      "Running for A=34 and Z=15\n",
      "Running for A=29 and Z=16\n",
      "Running for A=30 and Z=16\n",
      "Running for A=31 and Z=16\n",
      "Running for A=35 and Z=16\n",
      "Running for A=31 and Z=17\n",
      "Running for A=32 and Z=17\n",
      "Running for A=33 and Z=17\n",
      "Running for A=32 and Z=18\n",
      "Running for A=34 and Z=18\n",
      "Running for A=35 and Z=18\n",
      "Running for A=37 and Z=18\n",
      "Running for A=36 and Z=19\n",
      "Running for A=37 and Z=19\n",
      "Running for A=36 and Z=20\n",
      "Running for A=37 and Z=20\n",
      "Running for A=38 and Z=20\n"
     ]
    }
   ],
   "source": [
    "for i in range(len(A)):\n",
    "    print ('Running for A=%i and Z=%i' % (A[i],Z[i]))\n",
    "    f=open('input.txt','w')\n",
    "    output='PT_outputA' + str(A[i]) + 'Z' + str(Z[i]) \n",
    "    f.write('1 \\n') # Choose overlap file format by number\n",
    "    f.write('1 \\n') # Choose temperature-density grid by number \n",
    "    f.write('%i,%i \\n' % (A[i],Z[i])) # Nucleus A,Z \n",
    "    #f.write('\\n')\n",
    "    f.write('/Users/stephaniemlauber/Documents/allmytransitions/allmytransitions/Beta_Results_Final/gtr_theory/\\n')\n",
    "    #f.write('/home/slauber/Desktop/allmytransitions/Beta_Results_Final/gtr_theory/\\n')# Path to overlap file \n",
    "    f.write('15,20 \\n') # Lower, upper cutoffs for modified Brink hypothesis (15,20)\n",
    "    f.write('1.0 \\n') # Averaged high energy state bin width (1.0)\n",
    "    f.write('0.01') # Thermal strength transition energy bin width (0.01) \n",
    "    f.close()\n",
    "    \n",
    "    os.system('python neutrino_rates_cc.py < input.txt > %s' % output)\n",
    "    #os.system('rm input.txt')"
   ]
  },
  {
   "cell_type": "code",
   "execution_count": null,
   "metadata": {
    "collapsed": true
   },
   "outputs": [],
   "source": []
  }
 ],
 "metadata": {
  "kernelspec": {
   "display_name": "Python 3",
   "language": "python",
   "name": "python3"
  },
  "language_info": {
   "codemirror_mode": {
    "name": "ipython",
    "version": 3
   },
   "file_extension": ".py",
   "mimetype": "text/x-python",
   "name": "python",
   "nbconvert_exporter": "python",
   "pygments_lexer": "ipython3",
   "version": "3.6.3"
  }
 },
 "nbformat": 4,
 "nbformat_minor": 2
}
